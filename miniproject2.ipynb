{
  "nbformat": 4,
  "nbformat_minor": 0,
  "metadata": {
    "colab": {
      "name": "miniproject2.ipynb",
      "provenance": [],
      "collapsed_sections": [],
      "toc_visible": true,
      "include_colab_link": true
    },
    "kernelspec": {
      "name": "python3",
      "display_name": "Python 3"
    }
  },
  "cells": [
    {
      "cell_type": "markdown",
      "metadata": {
        "id": "view-in-github",
        "colab_type": "text"
      },
      "source": [
        "<a href=\"https://colab.research.google.com/github/HungYangChang/ECSE-551-Mini-project2/blob/main/miniproject2.ipynb\" target=\"_parent\"><img src=\"https://colab.research.google.com/assets/colab-badge.svg\" alt=\"Open In Colab\"/></a>"
      ]
    },
    {
      "cell_type": "markdown",
      "metadata": {
        "id": "DNYWZ6a6Rwhd"
      },
      "source": [
        "# Mini-Project 2"
      ]
    },
    {
      "cell_type": "code",
      "metadata": {
        "id": "rkCGwrtgR3OC"
      },
      "source": [
        "# Import relevant modules\n",
        "import pandas as pd\n",
        "import numpy as np\n",
        "import matplotlib.pyplot as plt\n",
        "from sklearn.feature_extraction.text import CountVectorizer, TfidfVectorizer\n",
        "from sklearn.feature_selection import SelectKBest, chi2\n",
        "from sklearn.preprocessing import Normalizer\n",
        "from sklearn.pipeline import Pipeline\n",
        "from sklearn.feature_extraction import text\n",
        "from sklearn import model_selection\n",
        "from sklearn import svm\n",
        "import time\n",
        "import nltk"
      ],
      "execution_count": null,
      "outputs": []
    },
    {
      "cell_type": "markdown",
      "metadata": {
        "id": "eBSTi2dGSBSq"
      },
      "source": [
        "# Load and Prepare Data"
      ]
    },
    {
      "cell_type": "code",
      "metadata": {
        "id": "l_hgSflFSE9z"
      },
      "source": [
        "# Load testing and training data\n",
        "url = \"https://raw.githubusercontent.com/jonarsenault/ecse551data/master/train.csv\"\n",
        "train_data = pd.read_csv(url)\n",
        "\n",
        "url = \"https://raw.githubusercontent.com/jonarsenault/ecse551data/master/test.csv\"\n",
        "test_data = pd.read_csv(url)\n",
        "\n",
        "# Parameters\n",
        "number_of_samples = None  # Set to None to test entire data set\n",
        "stop_words = text.ENGLISH_STOP_WORDS\n",
        "np.random.seed(10)\n",
        "\n",
        "# For some reason, need to shuffle even if using all data\n",
        "if number_of_samples is None:\n",
        "    number_of_samples = len(train_data)\n",
        "\n",
        "train_data = train_data.sample(number_of_samples).reset_index(drop=True)\n",
        "\n",
        "X = train_data[\"body\"]\n",
        "y = train_data[\"subreddit\"]\n",
        "\n",
        "X_test = test_data[\"body\"]"
      ],
      "execution_count": null,
      "outputs": []
    },
    {
      "cell_type": "code",
      "metadata": {
        "id": "uPKosZCqVZey"
      },
      "source": [
        "# Parameters\n",
        "\n",
        "# Add some stop words\n",
        "more_stop_words = [\n",
        "    \"u\",\n",
        "    \"just\",\n",
        "    \"think\",\n",
        "    \"https\",\n",
        "    \"www\",\n",
        "    \"don't\",\n",
        "    \"like\",\n",
        "    \"need\",\n",
        "    \"it\",\n",
        "    \"you're\",\n",
        "    \"use\",\n",
        "    \"reddit\",\n",
        "    \"thing\",\n",
        "    \"I'm\",\n",
        "    \"things\",\n",
        "    \"good\",\n",
        "    \"really\",\n",
        "    \"want\",\n",
        "    \"maybe\",\n",
        "    \"imgur\",\n",
        "    \"com\",\n",
        "    \"don\",\n",
        "    \"actually\",\n",
        "    \"that\",\n",
        "    \"make\",\n",
        "    \"lot\",\n",
        "    \"different\",\n",
        "    \"doing\",\n",
        "    \"that\",\n",
        "    \"better\",\n",
        "    \"going\",\n",
        "    \"great\",\n",
        "]\n",
        "\n",
        "fewer_stop_words = [\n",
        "    \"u\",\n",
        "    \"just\",\n",
        "    \"think\",\n",
        "    \"don't\",\n",
        "    \"like\",\n",
        "    \"need\",\n",
        "    \"it\",\n",
        "    \"you're\",\n",
        "    \"use\",\n",
        "    \"thing\",\n",
        "    \"I'm\",\n",
        "    \"things\",\n",
        "    \"good\",\n",
        "    \"really\",\n",
        "    \"want\",\n",
        "    \"maybe\",\n",
        "    \"don\",\n",
        "    \"actually\",\n",
        "    \"that\",\n",
        "    \"make\",\n",
        "    \"lot\",\n",
        "    \"different\",\n",
        "    \"doing\",\n",
        "    \"that\",\n",
        "    \"better\",\n",
        "    \"going\",\n",
        "    \"great\",\n",
        "]\n",
        "almost_all_stop_words = stop_words.union(fewer_stop_words)\n",
        "all_stop_words = stop_words.union(more_stop_words)"
      ],
      "execution_count": null,
      "outputs": []
    },
    {
      "cell_type": "markdown",
      "metadata": {
        "id": "V-wACgE9SRlq"
      },
      "source": [
        "# Define our own Naive Bayes class\n",
        "\n",
        "\n"
      ]
    },
    {
      "cell_type": "code",
      "metadata": {
        "id": "qTd7foSlSszy"
      },
      "source": [
        "class NaiveBayes:\n",
        "    def __init__(self, alpha=0.01, prior=\"learn\"):\n",
        "        \"\"\"Constructor\"\"\"\n",
        "\n",
        "        self.alpha = alpha\n",
        "        self.prior = prior\n",
        "    def fit(self, X, y):\n",
        "        \"\"\"Obtain naive bayes parameters from training data. X is input data, \n",
        "        y are class labels\"\"\"\n",
        "\n",
        "        # Convert sparse array to dense array\n",
        "        X = X.toarray()\n",
        "\n",
        "        # Compute each class probability\n",
        "        class_counts = y.value_counts()\n",
        "\n",
        "        num_labels = len(class_counts)\n",
        "\n",
        "        if self.prior == \"learn\":\n",
        "          # Learn the class probabilities from the training data\n",
        "          self.class_probabilities = class_counts / len(y)\n",
        "        elif self.prior == \"uniform\":\n",
        "          # Assume a uniform prior\n",
        "          self.class_probabilities = pd.Series(np.repeat(1/num_labels, num_labels), \n",
        "                                               index = class_counts.index)\n",
        "\n",
        "        # Sort in alphabetical order\n",
        "        self.class_probabilities.sort_index(inplace=True)\n",
        "        class_counts.sort_index(inplace=True)\n",
        "\n",
        "        # Compute parameters\n",
        "        features_count = np.empty((num_labels, X.shape[1]))\n",
        "\n",
        "        y_numpy = y.to_numpy()\n",
        "        for i in range(num_labels):\n",
        "\n",
        "            label = self.class_probabilities.index[i]\n",
        "            X_this_label = X[np.nonzero(y_numpy == label), :]\n",
        "\n",
        "            features_count[i,:] = np.sum(X_this_label, axis=1)\n",
        "\n",
        "        # Laplace smoothing\n",
        "        smoothed_numerator = features_count + self.alpha\n",
        "        smoothed_denominator = np.sum(smoothed_numerator,axis=1).reshape(-1,1)\n",
        "\n",
        "        self.parameters = pd.DataFrame(smoothed_numerator / smoothed_denominator, index=self.class_probabilities.index)\n",
        "        \n",
        "    def predict(self, X):\n",
        "        \"\"\"Predict class of text\"\"\"\n",
        "\n",
        "        X = X.toarray()\n",
        "\n",
        "        delta = pd.DataFrame(columns=self.class_probabilities.index)\n",
        "        for label in self.class_probabilities.index:\n",
        "\n",
        "            # Get probability of currect class P(y=k)\n",
        "            class_probability = self.class_probabilities[label]\n",
        "\n",
        "            # Get theta_j for currect class\n",
        "            theta_j_class = self.parameters.loc[label, :].to_numpy()\n",
        "\n",
        "            # Compute P(x_j | y = k)\n",
        "            prob_features_given_y = (theta_j_class ** X) * (1 - theta_j_class) ** (\n",
        "                1 - X\n",
        "            )\n",
        "\n",
        "            # Compute P(x | y = k)\n",
        "            prob_sample_given_y = np.prod(prob_features_given_y, axis=1)\n",
        "\n",
        "            # Compute P(y) * P(x | y = k)\n",
        "            term1 = np.log(class_probability)\n",
        "            term2 = np.sum(X * np.log(theta_j_class), axis=1)\n",
        "            term3 = np.sum((1 - X) * np.log(1 - theta_j_class), axis=1)\n",
        "            delta_k = term1 + term2 + term3\n",
        "\n",
        "            # Append\n",
        "            delta[label] = delta_k\n",
        "\n",
        "        predicted_class = delta.idxmax(axis=1)\n",
        "\n",
        "        return predicted_class.to_list()\n",
        "\n",
        "    def score(self, X, y):\n",
        "        \"\"\"Compute accuracy of naive bayes model\"\"\"      \n",
        "\n",
        "        y_pred = self.predict(X)\n",
        "\n",
        "        accuracy = np.count_nonzero(y == y_pred) / len(y_pred)\n",
        "\n",
        "        return accuracy\n",
        "\n",
        "    def get_params(self, deep=True):\n",
        "        \"\"\"Getter for parameters\"\"\"\n",
        "\n",
        "        params = {\"alpha\": self.alpha,\n",
        "                  \"prior\": self.prior}\n",
        "\n",
        "        return params\n",
        "\n",
        "    def set_params(self, **parameters):\n",
        "        \"Setter for parameters\"\n",
        "        for parameter, value in parameters.items():\n",
        "            setattr(self, parameter, value)\n",
        "\n",
        "        return self\n"
      ],
      "execution_count": null,
      "outputs": []
    },
    {
      "cell_type": "markdown",
      "metadata": {
        "id": "dDG-f-YFePP2"
      },
      "source": [
        "# Run grid search to determine best parameters for Naive Bayes model"
      ]
    },
    {
      "cell_type": "code",
      "metadata": {
        "id": "3DZRXXDkVUw8",
        "outputId": "07b4cfc6-4b10-4c13-946b-4c82de3e0d43",
        "colab": {
          "base_uri": "https://localhost:8080/",
          "height": 505
        }
      },
      "source": [
        "# After extensive offline testing, it was determined that these are the parameters\n",
        "# that should be tuned.\n",
        "\n",
        "# final best result:\n",
        "\n",
        "# count vectorzier vs TFIDF vectorzier --> choose count vectorzier\n",
        "# vectorzier stop words --> all stop words\n",
        "# Lemmatizer or Stemming --> Neither!\n",
        "# removing stop word --> add more stop words\n",
        "# N-gram --> None (1,1)\n",
        "# Chi2 Best K --> k = 30000\n",
        "# normalizer --> Yes!\n",
        "# Naive bayes alpha --> 0.01\n",
        "# Class prior --> uniform!\n",
        "\n",
        "\n",
        "\n",
        "pipe_params = {\n",
        "    \"vect__stop_words\": [None, stop_words, all_stop_words],\n",
        "    \"vect__ngram_range\": [(1,1), (1,2), (1,3)],\n",
        "    \"selecter__k\":[5000, 15000, 25000],\n",
        "    \"classify__alpha\" : [0.001, 0.01, 0.1],\n",
        "    \"classify__prior\" : [\"uniform\", \"learn\"],\n",
        "}\n",
        "\n",
        "vectorizer = CountVectorizer()\n",
        "selecter = SelectKBest(chi2)\n",
        "normalizer = Normalizer()\n",
        "naive_bayes_model = NaiveBayes()\n",
        "\n",
        "pipe = Pipeline(\n",
        "    [(\"vect\", vectorizer), (\"norm\", normalizer), (\"selecter\", selecter), (\"classify\", NaiveBayes())]\n",
        ")\n",
        "\n",
        "grid = model_selection.GridSearchCV(pipe, pipe_params, verbose=1, n_jobs=-1)\n",
        "\n",
        "grid.fit(X, y)\n",
        "\n",
        "print(f\"The best accuracy is {grid.best_score_}.\")\n",
        "print(f\"The winning parameters are {grid.best_params_}\")\n"
      ],
      "execution_count": null,
      "outputs": [
        {
          "output_type": "stream",
          "text": [
            "Fitting 5 folds for each of 162 candidates, totalling 810 fits\n"
          ],
          "name": "stdout"
        },
        {
          "output_type": "stream",
          "text": [
            "[Parallel(n_jobs=-1)]: Using backend LokyBackend with 2 concurrent workers.\n",
            "[Parallel(n_jobs=-1)]: Done  46 tasks      | elapsed:  4.5min\n",
            "/usr/local/lib/python3.6/dist-packages/joblib/externals/loky/process_executor.py:691: UserWarning: A worker stopped while some jobs were given to the executor. This can be caused by a too short worker timeout or by a memory leak.\n",
            "  \"timeout or by a memory leak.\", UserWarning\n",
            "[Parallel(n_jobs=-1)]: Done 196 tasks      | elapsed: 30.9min\n"
          ],
          "name": "stderr"
        },
        {
          "output_type": "error",
          "ename": "KeyboardInterrupt",
          "evalue": "ignored",
          "traceback": [
            "\u001b[0;31m---------------------------------------------------------------------------\u001b[0m",
            "\u001b[0;31mKeyboardInterrupt\u001b[0m                         Traceback (most recent call last)",
            "\u001b[0;32m<ipython-input-6-105dcb5fedc1>\u001b[0m in \u001b[0;36m<module>\u001b[0;34m()\u001b[0m\n\u001b[1;32m     35\u001b[0m \u001b[0mgrid\u001b[0m \u001b[0;34m=\u001b[0m \u001b[0mmodel_selection\u001b[0m\u001b[0;34m.\u001b[0m\u001b[0mGridSearchCV\u001b[0m\u001b[0;34m(\u001b[0m\u001b[0mpipe\u001b[0m\u001b[0;34m,\u001b[0m \u001b[0mpipe_params\u001b[0m\u001b[0;34m,\u001b[0m \u001b[0mverbose\u001b[0m\u001b[0;34m=\u001b[0m\u001b[0;36m1\u001b[0m\u001b[0;34m,\u001b[0m \u001b[0mn_jobs\u001b[0m\u001b[0;34m=\u001b[0m\u001b[0;34m-\u001b[0m\u001b[0;36m1\u001b[0m\u001b[0;34m)\u001b[0m\u001b[0;34m\u001b[0m\u001b[0;34m\u001b[0m\u001b[0m\n\u001b[1;32m     36\u001b[0m \u001b[0;34m\u001b[0m\u001b[0m\n\u001b[0;32m---> 37\u001b[0;31m \u001b[0mgrid\u001b[0m\u001b[0;34m.\u001b[0m\u001b[0mfit\u001b[0m\u001b[0;34m(\u001b[0m\u001b[0mX\u001b[0m\u001b[0;34m,\u001b[0m \u001b[0my\u001b[0m\u001b[0;34m)\u001b[0m\u001b[0;34m\u001b[0m\u001b[0;34m\u001b[0m\u001b[0m\n\u001b[0m\u001b[1;32m     38\u001b[0m \u001b[0;34m\u001b[0m\u001b[0m\n\u001b[1;32m     39\u001b[0m \u001b[0mprint\u001b[0m\u001b[0;34m(\u001b[0m\u001b[0;34mf\"The best accuracy is {grid.best_score_}.\"\u001b[0m\u001b[0;34m)\u001b[0m\u001b[0;34m\u001b[0m\u001b[0;34m\u001b[0m\u001b[0m\n",
            "\u001b[0;32m/usr/local/lib/python3.6/dist-packages/sklearn/model_selection/_search.py\u001b[0m in \u001b[0;36mfit\u001b[0;34m(self, X, y, groups, **fit_params)\u001b[0m\n\u001b[1;32m    708\u001b[0m                 \u001b[0;32mreturn\u001b[0m \u001b[0mresults\u001b[0m\u001b[0;34m\u001b[0m\u001b[0;34m\u001b[0m\u001b[0m\n\u001b[1;32m    709\u001b[0m \u001b[0;34m\u001b[0m\u001b[0m\n\u001b[0;32m--> 710\u001b[0;31m             \u001b[0mself\u001b[0m\u001b[0;34m.\u001b[0m\u001b[0m_run_search\u001b[0m\u001b[0;34m(\u001b[0m\u001b[0mevaluate_candidates\u001b[0m\u001b[0;34m)\u001b[0m\u001b[0;34m\u001b[0m\u001b[0;34m\u001b[0m\u001b[0m\n\u001b[0m\u001b[1;32m    711\u001b[0m \u001b[0;34m\u001b[0m\u001b[0m\n\u001b[1;32m    712\u001b[0m         \u001b[0;31m# For multi-metric evaluation, store the best_index_, best_params_ and\u001b[0m\u001b[0;34m\u001b[0m\u001b[0;34m\u001b[0m\u001b[0;34m\u001b[0m\u001b[0m\n",
            "\u001b[0;32m/usr/local/lib/python3.6/dist-packages/sklearn/model_selection/_search.py\u001b[0m in \u001b[0;36m_run_search\u001b[0;34m(self, evaluate_candidates)\u001b[0m\n\u001b[1;32m   1149\u001b[0m     \u001b[0;32mdef\u001b[0m \u001b[0m_run_search\u001b[0m\u001b[0;34m(\u001b[0m\u001b[0mself\u001b[0m\u001b[0;34m,\u001b[0m \u001b[0mevaluate_candidates\u001b[0m\u001b[0;34m)\u001b[0m\u001b[0;34m:\u001b[0m\u001b[0;34m\u001b[0m\u001b[0;34m\u001b[0m\u001b[0m\n\u001b[1;32m   1150\u001b[0m         \u001b[0;34m\"\"\"Search all candidates in param_grid\"\"\"\u001b[0m\u001b[0;34m\u001b[0m\u001b[0;34m\u001b[0m\u001b[0m\n\u001b[0;32m-> 1151\u001b[0;31m         \u001b[0mevaluate_candidates\u001b[0m\u001b[0;34m(\u001b[0m\u001b[0mParameterGrid\u001b[0m\u001b[0;34m(\u001b[0m\u001b[0mself\u001b[0m\u001b[0;34m.\u001b[0m\u001b[0mparam_grid\u001b[0m\u001b[0;34m)\u001b[0m\u001b[0;34m)\u001b[0m\u001b[0;34m\u001b[0m\u001b[0;34m\u001b[0m\u001b[0m\n\u001b[0m\u001b[1;32m   1152\u001b[0m \u001b[0;34m\u001b[0m\u001b[0m\n\u001b[1;32m   1153\u001b[0m \u001b[0;34m\u001b[0m\u001b[0m\n",
            "\u001b[0;32m/usr/local/lib/python3.6/dist-packages/sklearn/model_selection/_search.py\u001b[0m in \u001b[0;36mevaluate_candidates\u001b[0;34m(candidate_params)\u001b[0m\n\u001b[1;32m    687\u001b[0m                                \u001b[0;32mfor\u001b[0m \u001b[0mparameters\u001b[0m\u001b[0;34m,\u001b[0m \u001b[0;34m(\u001b[0m\u001b[0mtrain\u001b[0m\u001b[0;34m,\u001b[0m \u001b[0mtest\u001b[0m\u001b[0;34m)\u001b[0m\u001b[0;34m\u001b[0m\u001b[0;34m\u001b[0m\u001b[0m\n\u001b[1;32m    688\u001b[0m                                in product(candidate_params,\n\u001b[0;32m--> 689\u001b[0;31m                                           cv.split(X, y, groups)))\n\u001b[0m\u001b[1;32m    690\u001b[0m \u001b[0;34m\u001b[0m\u001b[0m\n\u001b[1;32m    691\u001b[0m                 \u001b[0;32mif\u001b[0m \u001b[0mlen\u001b[0m\u001b[0;34m(\u001b[0m\u001b[0mout\u001b[0m\u001b[0;34m)\u001b[0m \u001b[0;34m<\u001b[0m \u001b[0;36m1\u001b[0m\u001b[0;34m:\u001b[0m\u001b[0;34m\u001b[0m\u001b[0;34m\u001b[0m\u001b[0m\n",
            "\u001b[0;32m/usr/local/lib/python3.6/dist-packages/joblib/parallel.py\u001b[0m in \u001b[0;36m__call__\u001b[0;34m(self, iterable)\u001b[0m\n\u001b[1;32m   1059\u001b[0m \u001b[0;34m\u001b[0m\u001b[0m\n\u001b[1;32m   1060\u001b[0m             \u001b[0;32mwith\u001b[0m \u001b[0mself\u001b[0m\u001b[0;34m.\u001b[0m\u001b[0m_backend\u001b[0m\u001b[0;34m.\u001b[0m\u001b[0mretrieval_context\u001b[0m\u001b[0;34m(\u001b[0m\u001b[0;34m)\u001b[0m\u001b[0;34m:\u001b[0m\u001b[0;34m\u001b[0m\u001b[0;34m\u001b[0m\u001b[0m\n\u001b[0;32m-> 1061\u001b[0;31m                 \u001b[0mself\u001b[0m\u001b[0;34m.\u001b[0m\u001b[0mretrieve\u001b[0m\u001b[0;34m(\u001b[0m\u001b[0;34m)\u001b[0m\u001b[0;34m\u001b[0m\u001b[0;34m\u001b[0m\u001b[0m\n\u001b[0m\u001b[1;32m   1062\u001b[0m             \u001b[0;31m# Make sure that we get a last message telling us we are done\u001b[0m\u001b[0;34m\u001b[0m\u001b[0;34m\u001b[0m\u001b[0;34m\u001b[0m\u001b[0m\n\u001b[1;32m   1063\u001b[0m             \u001b[0melapsed_time\u001b[0m \u001b[0;34m=\u001b[0m \u001b[0mtime\u001b[0m\u001b[0;34m.\u001b[0m\u001b[0mtime\u001b[0m\u001b[0;34m(\u001b[0m\u001b[0;34m)\u001b[0m \u001b[0;34m-\u001b[0m \u001b[0mself\u001b[0m\u001b[0;34m.\u001b[0m\u001b[0m_start_time\u001b[0m\u001b[0;34m\u001b[0m\u001b[0;34m\u001b[0m\u001b[0m\n",
            "\u001b[0;32m/usr/local/lib/python3.6/dist-packages/joblib/parallel.py\u001b[0m in \u001b[0;36mretrieve\u001b[0;34m(self)\u001b[0m\n\u001b[1;32m    938\u001b[0m             \u001b[0;32mtry\u001b[0m\u001b[0;34m:\u001b[0m\u001b[0;34m\u001b[0m\u001b[0;34m\u001b[0m\u001b[0m\n\u001b[1;32m    939\u001b[0m                 \u001b[0;32mif\u001b[0m \u001b[0mgetattr\u001b[0m\u001b[0;34m(\u001b[0m\u001b[0mself\u001b[0m\u001b[0;34m.\u001b[0m\u001b[0m_backend\u001b[0m\u001b[0;34m,\u001b[0m \u001b[0;34m'supports_timeout'\u001b[0m\u001b[0;34m,\u001b[0m \u001b[0;32mFalse\u001b[0m\u001b[0;34m)\u001b[0m\u001b[0;34m:\u001b[0m\u001b[0;34m\u001b[0m\u001b[0;34m\u001b[0m\u001b[0m\n\u001b[0;32m--> 940\u001b[0;31m                     \u001b[0mself\u001b[0m\u001b[0;34m.\u001b[0m\u001b[0m_output\u001b[0m\u001b[0;34m.\u001b[0m\u001b[0mextend\u001b[0m\u001b[0;34m(\u001b[0m\u001b[0mjob\u001b[0m\u001b[0;34m.\u001b[0m\u001b[0mget\u001b[0m\u001b[0;34m(\u001b[0m\u001b[0mtimeout\u001b[0m\u001b[0;34m=\u001b[0m\u001b[0mself\u001b[0m\u001b[0;34m.\u001b[0m\u001b[0mtimeout\u001b[0m\u001b[0;34m)\u001b[0m\u001b[0;34m)\u001b[0m\u001b[0;34m\u001b[0m\u001b[0;34m\u001b[0m\u001b[0m\n\u001b[0m\u001b[1;32m    941\u001b[0m                 \u001b[0;32melse\u001b[0m\u001b[0;34m:\u001b[0m\u001b[0;34m\u001b[0m\u001b[0;34m\u001b[0m\u001b[0m\n\u001b[1;32m    942\u001b[0m                     \u001b[0mself\u001b[0m\u001b[0;34m.\u001b[0m\u001b[0m_output\u001b[0m\u001b[0;34m.\u001b[0m\u001b[0mextend\u001b[0m\u001b[0;34m(\u001b[0m\u001b[0mjob\u001b[0m\u001b[0;34m.\u001b[0m\u001b[0mget\u001b[0m\u001b[0;34m(\u001b[0m\u001b[0;34m)\u001b[0m\u001b[0;34m)\u001b[0m\u001b[0;34m\u001b[0m\u001b[0;34m\u001b[0m\u001b[0m\n",
            "\u001b[0;32m/usr/local/lib/python3.6/dist-packages/joblib/_parallel_backends.py\u001b[0m in \u001b[0;36mwrap_future_result\u001b[0;34m(future, timeout)\u001b[0m\n\u001b[1;32m    540\u001b[0m         AsyncResults.get from multiprocessing.\"\"\"\n\u001b[1;32m    541\u001b[0m         \u001b[0;32mtry\u001b[0m\u001b[0;34m:\u001b[0m\u001b[0;34m\u001b[0m\u001b[0;34m\u001b[0m\u001b[0m\n\u001b[0;32m--> 542\u001b[0;31m             \u001b[0;32mreturn\u001b[0m \u001b[0mfuture\u001b[0m\u001b[0;34m.\u001b[0m\u001b[0mresult\u001b[0m\u001b[0;34m(\u001b[0m\u001b[0mtimeout\u001b[0m\u001b[0;34m=\u001b[0m\u001b[0mtimeout\u001b[0m\u001b[0;34m)\u001b[0m\u001b[0;34m\u001b[0m\u001b[0;34m\u001b[0m\u001b[0m\n\u001b[0m\u001b[1;32m    543\u001b[0m         \u001b[0;32mexcept\u001b[0m \u001b[0mCfTimeoutError\u001b[0m \u001b[0;32mas\u001b[0m \u001b[0me\u001b[0m\u001b[0;34m:\u001b[0m\u001b[0;34m\u001b[0m\u001b[0;34m\u001b[0m\u001b[0m\n\u001b[1;32m    544\u001b[0m             \u001b[0;32mraise\u001b[0m \u001b[0mTimeoutError\u001b[0m \u001b[0;32mfrom\u001b[0m \u001b[0me\u001b[0m\u001b[0;34m\u001b[0m\u001b[0;34m\u001b[0m\u001b[0m\n",
            "\u001b[0;32m/usr/lib/python3.6/concurrent/futures/_base.py\u001b[0m in \u001b[0;36mresult\u001b[0;34m(self, timeout)\u001b[0m\n\u001b[1;32m    425\u001b[0m                 \u001b[0;32mreturn\u001b[0m \u001b[0mself\u001b[0m\u001b[0;34m.\u001b[0m\u001b[0m__get_result\u001b[0m\u001b[0;34m(\u001b[0m\u001b[0;34m)\u001b[0m\u001b[0;34m\u001b[0m\u001b[0;34m\u001b[0m\u001b[0m\n\u001b[1;32m    426\u001b[0m \u001b[0;34m\u001b[0m\u001b[0m\n\u001b[0;32m--> 427\u001b[0;31m             \u001b[0mself\u001b[0m\u001b[0;34m.\u001b[0m\u001b[0m_condition\u001b[0m\u001b[0;34m.\u001b[0m\u001b[0mwait\u001b[0m\u001b[0;34m(\u001b[0m\u001b[0mtimeout\u001b[0m\u001b[0;34m)\u001b[0m\u001b[0;34m\u001b[0m\u001b[0;34m\u001b[0m\u001b[0m\n\u001b[0m\u001b[1;32m    428\u001b[0m \u001b[0;34m\u001b[0m\u001b[0m\n\u001b[1;32m    429\u001b[0m             \u001b[0;32mif\u001b[0m \u001b[0mself\u001b[0m\u001b[0;34m.\u001b[0m\u001b[0m_state\u001b[0m \u001b[0;32min\u001b[0m \u001b[0;34m[\u001b[0m\u001b[0mCANCELLED\u001b[0m\u001b[0;34m,\u001b[0m \u001b[0mCANCELLED_AND_NOTIFIED\u001b[0m\u001b[0;34m]\u001b[0m\u001b[0;34m:\u001b[0m\u001b[0;34m\u001b[0m\u001b[0;34m\u001b[0m\u001b[0m\n",
            "\u001b[0;32m/usr/lib/python3.6/threading.py\u001b[0m in \u001b[0;36mwait\u001b[0;34m(self, timeout)\u001b[0m\n\u001b[1;32m    293\u001b[0m         \u001b[0;32mtry\u001b[0m\u001b[0;34m:\u001b[0m    \u001b[0;31m# restore state no matter what (e.g., KeyboardInterrupt)\u001b[0m\u001b[0;34m\u001b[0m\u001b[0;34m\u001b[0m\u001b[0m\n\u001b[1;32m    294\u001b[0m             \u001b[0;32mif\u001b[0m \u001b[0mtimeout\u001b[0m \u001b[0;32mis\u001b[0m \u001b[0;32mNone\u001b[0m\u001b[0;34m:\u001b[0m\u001b[0;34m\u001b[0m\u001b[0;34m\u001b[0m\u001b[0m\n\u001b[0;32m--> 295\u001b[0;31m                 \u001b[0mwaiter\u001b[0m\u001b[0;34m.\u001b[0m\u001b[0macquire\u001b[0m\u001b[0;34m(\u001b[0m\u001b[0;34m)\u001b[0m\u001b[0;34m\u001b[0m\u001b[0;34m\u001b[0m\u001b[0m\n\u001b[0m\u001b[1;32m    296\u001b[0m                 \u001b[0mgotit\u001b[0m \u001b[0;34m=\u001b[0m \u001b[0;32mTrue\u001b[0m\u001b[0;34m\u001b[0m\u001b[0;34m\u001b[0m\u001b[0m\n\u001b[1;32m    297\u001b[0m             \u001b[0;32melse\u001b[0m\u001b[0;34m:\u001b[0m\u001b[0;34m\u001b[0m\u001b[0;34m\u001b[0m\u001b[0m\n",
            "\u001b[0;31mKeyboardInterrupt\u001b[0m: "
          ]
        }
      ]
    },
    {
      "cell_type": "markdown",
      "metadata": {
        "id": "8aWRlYbmkWZb"
      },
      "source": [
        "# Generate plot of grid search for smoothing parameter"
      ]
    },
    {
      "cell_type": "code",
      "metadata": {
        "id": "BPC5kMthkc2r",
        "outputId": "37693261-843f-46f0-a4f3-3a70f2bbbfd9",
        "colab": {
          "base_uri": "https://localhost:8080/",
          "height": 348
        }
      },
      "source": [
        "# Using the best parameters from the more general grid search, a more specific \n",
        "# grid search is used to determine the effect of alpha\n",
        "\n",
        "# Define search parameters\n",
        "alpha_grid = np.logspace(-3, 0, 4)\n",
        "pipe_params = {\n",
        "    \"classify__alpha\" : alpha_grid,\n",
        "}\n",
        "\n",
        "# Create pipeline\n",
        "vectorizer = CountVectorizer(stop_words=all_stop_words)\n",
        "selecter = SelectKBest(chi2, k=15000)\n",
        "normalizer = Normalizer()\n",
        "naive_bayes_model = NaiveBayes(prior=\"uniform\")\n",
        "\n",
        "pipe = Pipeline(\n",
        "    [(\"vect\", vectorizer), (\"norm\", normalizer), (\"selecter\", selecter), (\"classify\", NaiveBayes())]\n",
        ")\n",
        "\n",
        "# Run grid search\n",
        "grid = model_selection.GridSearchCV(pipe, pipe_params, verbose=1, n_jobs=-1)\n",
        "grid.fit(X, y)\n",
        "\n",
        "# Plot results\n",
        "save_fig = True\n",
        "fig, ax = plt.subplots()\n",
        "ax.plot(alpha_grid, grid.cv_results_[\"mean_test_score\"])\n",
        "ax.set_xscale(\"log\")\n",
        "ax.set_xlabel(r\"$\\alpha$\")\n",
        "ax.set_ylabel(\"Mean Test Score\")\n",
        "ax.grid()\n",
        "\n",
        "ax2 = ax.twinx()\n",
        "ax2.plot(alpha_grid, grid.cv_results_[\"mean_fit_time\"], color=\"r\", linestyle=\"--\")\n",
        "ax2.set_ylabel(\"Mean Fit Time [s]\")\n",
        "if save_fig:\n",
        "  plt.tight_layout()\n",
        "  plt.savefig(\"alpha_grid_search.pdf\", bbox_inches=\"tight\", pad_inches=0)"
      ],
      "execution_count": null,
      "outputs": [
        {
          "output_type": "stream",
          "text": [
            "Fitting 5 folds for each of 4 candidates, totalling 20 fits\n"
          ],
          "name": "stdout"
        },
        {
          "output_type": "stream",
          "text": [
            "[Parallel(n_jobs=-1)]: Using backend LokyBackend with 2 concurrent workers.\n",
            "[Parallel(n_jobs=-1)]: Done  20 out of  20 | elapsed:  2.9min finished\n"
          ],
          "name": "stderr"
        },
        {
          "output_type": "display_data",
          "data": {
            "image/png": "[encoded data removed]",
            "text/plain": [
              "<Figure size 432x288 with 2 Axes>"
            ]
          },
          "metadata": {
            "tags": [],
            "needs_background": "light"
          }
        }
      ]
    },
    {
      "cell_type": "markdown",
      "metadata": {
        "id": "y8ZEGVcIFBWx"
      },
      "source": [
        "# Generate plot of grid search for number of features to select"
      ]
    },
    {
      "cell_type": "code",
      "metadata": {
        "id": "CtmmP4bVo2Eu",
        "outputId": "ca9eeeca-d341-47c9-d8a3-ffcef16b4331",
        "colab": {
          "base_uri": "https://localhost:8080/",
          "height": 402
        }
      },
      "source": [
        "# Define search parameters\n",
        "k_grid = np.linspace(5000, 35000, 7, dtype=int)\n",
        "pipe_params = {\n",
        "    \"selecter__k\" : k_grid,\n",
        "}\n",
        "\n",
        "# Create pipeline\n",
        "vectorizer = CountVectorizer(stop_words=all_stop_words)\n",
        "normalizer = Normalizer()\n",
        "selecter = SelectKBest(chi2)\n",
        "naive_bayes_model = NaiveBayes(alpha = 0.01, prior=\"uniform\")\n",
        "\n",
        "pipe = Pipeline(\n",
        "    [(\"vect\", vectorizer),  (\"norm\", normalizer), (\"selecter\", selecter), (\"classify\", NaiveBayes())]\n",
        ")\n",
        "\n",
        "# Run grid search\n",
        "grid = model_selection.GridSearchCV(pipe, pipe_params, verbose=1, n_jobs=-1)\n",
        "grid.fit(X, y)\n",
        "\n",
        "# Plot results\n",
        "save_fig = True\n",
        "fig, ax = plt.subplots()\n",
        "ax.plot(k_grid, grid.cv_results_[\"mean_test_score\"])\n",
        "ax.set_xlabel(\"k\")\n",
        "ax.set_ylabel(\"Mean Test Score\")\n",
        "ax.grid()\n",
        "\n",
        "ax2 = ax.twinx()\n",
        "ax2.plot(k_grid, grid.cv_results_[\"mean_fit_time\"], color=\"r\", linestyle=\"--\")\n",
        "ax2.set_ylabel(\"Mean Fit Time [s]\")\n",
        "if save_fig:\n",
        "  plt.tight_layout()\n",
        "  plt.savefig(\"k_grid_search.pdf\", bbox_inches=\"tight\", pad_inches=0)"
      ],
      "execution_count": null,
      "outputs": [
        {
          "output_type": "stream",
          "text": [
            "Fitting 5 folds for each of 7 candidates, totalling 35 fits\n"
          ],
          "name": "stdout"
        },
        {
          "output_type": "stream",
          "text": [
            "[Parallel(n_jobs=-1)]: Using backend LokyBackend with 2 concurrent workers.\n",
            "/usr/local/lib/python3.6/dist-packages/joblib/externals/loky/process_executor.py:691: UserWarning: A worker stopped while some jobs were given to the executor. This can be caused by a too short worker timeout or by a memory leak.\n",
            "  \"timeout or by a memory leak.\", UserWarning\n",
            "[Parallel(n_jobs=-1)]: Done  35 out of  35 | elapsed:  6.7min finished\n"
          ],
          "name": "stderr"
        },
        {
          "output_type": "display_data",
          "data": {
            "image/png": "[encoded data removed]",
            "text/plain": [
              "<Figure size 432x288 with 1 Axes>"
            ]
          },
          "metadata": {
            "tags": [],
            "needs_background": "light"
          }
        }
      ]
    },
    {
      "cell_type": "markdown",
      "metadata": {
        "id": "XxcwcFKjDZvU"
      },
      "source": [
        "# Some results on selecting the best features"
      ]
    },
    {
      "cell_type": "code",
      "metadata": {
        "id": "vxEInNBDyj0B",
        "outputId": "b8362905-0de4-49f1-e72d-79e55a8050cb",
        "colab": {
          "base_uri": "https://localhost:8080/",
          "height": 728
        }
      },
      "source": [
        "# Instantiate models\n",
        "vectorizer = CountVectorizer()\n",
        "normalizer = Normalizer()\n",
        "selecter = SelectKBest(chi2)\n",
        "\n",
        "# Fit and transform variables\n",
        "X_new = vectorizer.fit_transform(X)\n",
        "X_new = normalizer.fit_transform(X_new)\n",
        "X_new = selecter.fit_transform(X_new, y)\n",
        "\n",
        "# Print the 10 most important words\n",
        "word_list = np.array(vectorizer.get_feature_names())\n",
        "\n",
        "selected_words = pd.DataFrame(data={\"words\" :word_list[selecter.get_support()]})\n",
        "selected_words[\"scores\"] = selecter.scores_[selecter.get_support()]\n",
        "\n",
        "print(selected_words.sort_values(by=\"scores\", ascending=False)[0:10])\n",
        "\n",
        "\n",
        "# Plot p-value of each feature\n",
        "save_fig = False\n",
        "fig, ax = plt.subplots()\n",
        "ax.plot(np.arange(len(selecter.scores_)), sorted(selecter.pvalues_, reverse=True))\n",
        "ax.set_xlabel(\"Rank\")\n",
        "ax.set_ylabel(\"p-value\")\n",
        "ax.grid()\n",
        "if save_fig:\n",
        "  plt.tight_layout()\n",
        "  plt.savefig(\"p_value.pdf\", bbox_inches=\"tight\", pad_inches=0)\n",
        "\n",
        "save_fig = False\n",
        "fig, ax = plt.subplots()\n",
        "ax.plot(np.arange(len(selecter.scores_)), sorted(selecter.scores_, reverse=True))\n",
        "ax.set_xlabel(\"Rank\")\n",
        "ax.set_yscale(\"log\")\n",
        "ax.set_ylabel(\"Chi-squared Statistic\")\n",
        "ax.grid()\n",
        "if save_fig:\n",
        "  plt.tight_layout()\n",
        "  plt.savefig(\"chi_squared_stat.pdf\", bbox_inches=\"tight\", pad_inches=0)\n"
      ],
      "execution_count": null,
      "outputs": [
        {
          "output_type": "stream",
          "text": [
            "     words       scores\n",
            "0    anime  1149.849797\n",
            "3     data   849.011706\n",
            "1      car   559.216325\n",
            "4     game   437.452248\n",
            "5  gamedev   331.022750\n",
            "8  science   302.598381\n",
            "2     cars   287.490800\n",
            "7  players   228.164618\n",
            "9    unity   212.555372\n",
            "6   nvidia   211.259746\n"
          ],
          "name": "stdout"
        },
        {
          "output_type": "display_data",
          "data": {
            "image/png": "[encoded data removed]",
            "text/plain": [
              "<Figure size 432x288 with 1 Axes>"
            ]
          },
          "metadata": {
            "tags": [],
            "needs_background": "light"
          }
        },
        {
          "output_type": "display_data",
          "data": {
            "image/png": "[encoded data removed]",
            "text/plain": [
              "<Figure size 432x288 with 1 Axes>"
            ]
          },
          "metadata": {
            "tags": [],
            "needs_background": "light"
          }
        }
      ]
    },
    {
      "cell_type": "markdown",
      "metadata": {
        "id": "AKN6V_5_fib4"
      },
      "source": [
        "# Fit best Naive Bayes model"
      ]
    },
    {
      "cell_type": "code",
      "metadata": {
        "id": "TtvpwDWLggkH"
      },
      "source": [
        "vectorizer = CountVectorizer(stop_words=all_stop_words)\n",
        "selecter = SelectKBest(chi2, k=25000)\n",
        "normalizer = Normalizer()\n",
        "naive_bayes_model = NaiveBayes(alpha = 0.01, prior=\"uniform\")\n",
        "pipe = Pipeline(\n",
        "    [(\"vect\", vectorizer),  (\"norm\", normalizer), (\"selecter\", selecter), (\"classify\", naive_bayes_model)]\n",
        ")\n",
        "\n",
        "cross_val_accuracy = model_selection.cross_val_score(pipe, X, y, n_jobs=-1)\n",
        "\n",
        "print(f\"The 5-fold cross-validation accuracy is: {np.mean(cross_val_accuracy):.5f}\")\n"
      ],
      "execution_count": null,
      "outputs": []
    },
    {
      "cell_type": "code",
      "metadata": {
        "id": "wkF7Y58cJ-Xs",
        "outputId": "9f4bb0b0-47c7-40c6-df12-347b1278039e",
        "colab": {
          "base_uri": "https://localhost:8080/"
        }
      },
      "source": [
        "def store_csv(data, outfile_name):\n",
        "  \"\"\"Save file for submission to kaggle\"\"\"\n",
        "\n",
        "  rawdata= {'subreddit':data}\n",
        "  a = pd.DataFrame(rawdata, columns = ['id','subreddit'])\n",
        "  a.to_csv(outfile_name,index=True, header=True)\n",
        "  print (\"File saved.\")\n",
        "\n",
        "\n",
        "# Run on test set and save output\n",
        "pipe.fit(X, y)\n",
        "print(f\"The training accuracy is: {pipe.score(X, y):.5f}\")\n",
        "\n",
        "y_pred = pipe.predict(X_test)\n",
        "\n",
        "store_csv(y_pred,\"naive_bayes.csv\")\n",
        "\n"
      ],
      "execution_count": null,
      "outputs": [
        {
          "output_type": "stream",
          "text": [
            "0.9856674149542394\n",
            "File saved.\n"
          ],
          "name": "stdout"
        }
      ]
    },
    {
      "cell_type": "markdown",
      "metadata": {
        "id": "aTqTMoqngPUj"
      },
      "source": [
        "# Run grid search to determine best parameters for a Support Vector Machine, chosen as the \"other\" classifier"
      ]
    },
    {
      "cell_type": "code",
      "metadata": {
        "id": "ykKetVYXI62A"
      },
      "source": [
        "pipe_params = {\n",
        "    \"vectorizer__stop_words\": [None, all_stop_words],\n",
        "    \"vectorizer__ngram_range\": [(1,1), (1,2), (1,3)],\n",
        "    \"classify__gamma\" : np.logspace(-3, 1, 5), \n",
        "    \"classify__C\" : np.logspace(0, 4, 5)\n",
        "}\n",
        "\n",
        "vectorizer = TfidfVectorizer()\n",
        "normalizer = Normalizer()\n",
        "svm_model = svm.SVC(kernel=\"rbf\")\n",
        "\n",
        "pipe = Pipeline(\n",
        "    [\n",
        "        (\"vect\", vectorizer),\n",
        "        (\"norm\", Normalizer()),\n",
        "        (\"classify\", svm_model()),\n",
        "    ]\n",
        ")\n",
        "\n",
        "grid = model_selection.GridSearchCV(pipe, pipe_params, verbose=2, n_jobs=7)\n",
        "\n",
        "grid.fit(X, y)\n",
        "\n",
        "print(f\"The best accuracy is {grid.best_score_}.\")\n",
        "print(f\"The winning parameters are {grid.best_params_}\")"
      ],
      "execution_count": null,
      "outputs": []
    },
    {
      "cell_type": "markdown",
      "metadata": {
        "id": "-fz6xNgp2v4K"
      },
      "source": [
        "# Fit best SVM model"
      ]
    },
    {
      "cell_type": "code",
      "metadata": {
        "id": "87SOBg2pkV8D",
        "outputId": "1c0df792-a3a8-4b45-862f-d041598b38fb",
        "colab": {
          "base_uri": "https://localhost:8080/"
        }
      },
      "source": [
        "vectorizer = TfidfVectorizer(stop_words=all_stop_words, ngram_range=(1,2))\n",
        "normalizer = Normalizer()\n",
        "svm_model = svm.SVC(kernel=\"rbf\", gamma=0.1, C=10)\n",
        "pipe = Pipeline(\n",
        "    [(\"vect\", vectorizer), (\"norm\", normalizer), (\"classify\", svm_model)]\n",
        ")\n",
        "\n",
        "cross_val_accuracy = model_selection.cross_val_score(pipe, X, y, n_jobs=-1)\n",
        "\n",
        "print(np.mean(cross_val_accuracy))"
      ],
      "execution_count": null,
      "outputs": [
        {
          "output_type": "stream",
          "text": [
            "0.8979446428478252\n"
          ],
          "name": "stdout"
        }
      ]
    }
  ]
}